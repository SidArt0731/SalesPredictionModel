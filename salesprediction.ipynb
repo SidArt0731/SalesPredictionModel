{
 "cells": [
  {
   "cell_type": "code",
   "execution_count": 64,
   "id": "d8441ed9-7555-4988-a1dd-98830fab99c7",
   "metadata": {},
   "outputs": [],
   "source": [
    "import pandas as pd\n",
    "from sklearn.linear_model import LinearRegression\n",
    "from sklearn.model_selection import train_test_split"
   ]
  },
  {
   "cell_type": "markdown",
   "id": "a1c4ad80-d85f-4b41-98cd-ffbc78124135",
   "metadata": {},
   "source": [
    "### loading the data and creating the data variable"
   ]
  },
  {
   "cell_type": "code",
   "execution_count": 65,
   "id": "9ec36837-4801-4ad9-a4ba-476496683c1f",
   "metadata": {},
   "outputs": [
    {
     "data": {
      "text/html": [
       "<div>\n",
       "<style scoped>\n",
       "    .dataframe tbody tr th:only-of-type {\n",
       "        vertical-align: middle;\n",
       "    }\n",
       "\n",
       "    .dataframe tbody tr th {\n",
       "        vertical-align: top;\n",
       "    }\n",
       "\n",
       "    .dataframe thead th {\n",
       "        text-align: right;\n",
       "    }\n",
       "</style>\n",
       "<table border=\"1\" class=\"dataframe\">\n",
       "  <thead>\n",
       "    <tr style=\"text-align: right;\">\n",
       "      <th></th>\n",
       "      <th>YearAll</th>\n",
       "      <th>TV</th>\n",
       "      <th>Podcast</th>\n",
       "      <th>Youtube</th>\n",
       "      <th>Sales</th>\n",
       "    </tr>\n",
       "  </thead>\n",
       "  <tbody>\n",
       "    <tr>\n",
       "      <th>0</th>\n",
       "      <td>1-January-2015</td>\n",
       "      <td>2301</td>\n",
       "      <td>3780</td>\n",
       "      <td>6920</td>\n",
       "      <td>68178.5</td>\n",
       "    </tr>\n",
       "    <tr>\n",
       "      <th>1</th>\n",
       "      <td>8-January-2015</td>\n",
       "      <td>445</td>\n",
       "      <td>3930</td>\n",
       "      <td>4510</td>\n",
       "      <td>32084.0</td>\n",
       "    </tr>\n",
       "    <tr>\n",
       "      <th>2</th>\n",
       "      <td>15-January-2015</td>\n",
       "      <td>172</td>\n",
       "      <td>4590</td>\n",
       "      <td>6930</td>\n",
       "      <td>28690.5</td>\n",
       "    </tr>\n",
       "    <tr>\n",
       "      <th>3</th>\n",
       "      <td>22-January-2015</td>\n",
       "      <td>1515</td>\n",
       "      <td>4130</td>\n",
       "      <td>5850</td>\n",
       "      <td>57072.5</td>\n",
       "    </tr>\n",
       "    <tr>\n",
       "      <th>4</th>\n",
       "      <td>29-January-2015</td>\n",
       "      <td>1808</td>\n",
       "      <td>1080</td>\n",
       "      <td>5840</td>\n",
       "      <td>39796.5</td>\n",
       "    </tr>\n",
       "  </tbody>\n",
       "</table>\n",
       "</div>"
      ],
      "text/plain": [
       "           YearAll    TV  Podcast  Youtube    Sales\n",
       "0   1-January-2015  2301     3780     6920  68178.5\n",
       "1   8-January-2015   445     3930     4510  32084.0\n",
       "2  15-January-2015   172     4590     6930  28690.5\n",
       "3  22-January-2015  1515     4130     5850  57072.5\n",
       "4  29-January-2015  1808     1080     5840  39796.5"
      ]
     },
     "execution_count": 65,
     "metadata": {},
     "output_type": "execute_result"
    }
   ],
   "source": [
    "dataset = pd.read_csv('advertising_sales.csv')\n",
    "dataset.head()"
   ]
  },
  {
   "cell_type": "markdown",
   "id": "ec688d18-abbd-4c1e-9aa2-62382fdac9de",
   "metadata": {},
   "source": [
    "### creating dataset vars"
   ]
  },
  {
   "cell_type": "code",
   "execution_count": 66,
   "id": "8564fb3c-4efb-4f77-8d07-dd3066e139d4",
   "metadata": {},
   "outputs": [
    {
     "data": {
      "text/html": [
       "<div>\n",
       "<style scoped>\n",
       "    .dataframe tbody tr th:only-of-type {\n",
       "        vertical-align: middle;\n",
       "    }\n",
       "\n",
       "    .dataframe tbody tr th {\n",
       "        vertical-align: top;\n",
       "    }\n",
       "\n",
       "    .dataframe thead th {\n",
       "        text-align: right;\n",
       "    }\n",
       "</style>\n",
       "<table border=\"1\" class=\"dataframe\">\n",
       "  <thead>\n",
       "    <tr style=\"text-align: right;\">\n",
       "      <th></th>\n",
       "      <th>TV</th>\n",
       "      <th>Podcast</th>\n",
       "      <th>Youtube</th>\n",
       "    </tr>\n",
       "  </thead>\n",
       "  <tbody>\n",
       "    <tr>\n",
       "      <th>0</th>\n",
       "      <td>2301</td>\n",
       "      <td>3780</td>\n",
       "      <td>6920</td>\n",
       "    </tr>\n",
       "    <tr>\n",
       "      <th>1</th>\n",
       "      <td>445</td>\n",
       "      <td>3930</td>\n",
       "      <td>4510</td>\n",
       "    </tr>\n",
       "    <tr>\n",
       "      <th>2</th>\n",
       "      <td>172</td>\n",
       "      <td>4590</td>\n",
       "      <td>6930</td>\n",
       "    </tr>\n",
       "    <tr>\n",
       "      <th>3</th>\n",
       "      <td>1515</td>\n",
       "      <td>4130</td>\n",
       "      <td>5850</td>\n",
       "    </tr>\n",
       "    <tr>\n",
       "      <th>4</th>\n",
       "      <td>1808</td>\n",
       "      <td>1080</td>\n",
       "      <td>5840</td>\n",
       "    </tr>\n",
       "  </tbody>\n",
       "</table>\n",
       "</div>"
      ],
      "text/plain": [
       "     TV  Podcast  Youtube\n",
       "0  2301     3780     6920\n",
       "1   445     3930     4510\n",
       "2   172     4590     6930\n",
       "3  1515     4130     5850\n",
       "4  1808     1080     5840"
      ]
     },
     "execution_count": 66,
     "metadata": {},
     "output_type": "execute_result"
    }
   ],
   "source": [
    "X = dataset.iloc[:,1:4]\n",
    "X.head()"
   ]
  },
  {
   "cell_type": "code",
   "execution_count": 67,
   "id": "11a8f859-9018-4cfd-9397-2c6f391de4ae",
   "metadata": {},
   "outputs": [],
   "source": [
    "y = dataset['Sales']"
   ]
  },
  {
   "cell_type": "code",
   "execution_count": 68,
   "id": "999aa861-c943-47bc-84af-4bddea46905c",
   "metadata": {},
   "outputs": [],
   "source": [
    "X_train,X_test,y_train,y_test = train_test_split(X,y)"
   ]
  },
  {
   "cell_type": "markdown",
   "id": "ca55c710-0e37-41de-af18-b53b41469069",
   "metadata": {},
   "source": [
    "### creating and fitting model for prediction"
   ]
  },
  {
   "cell_type": "code",
   "execution_count": 69,
   "id": "761a36fd-524a-4429-a5d0-78e24003608c",
   "metadata": {},
   "outputs": [],
   "source": [
    "lin = LinearRegression()\n",
    "lin.fit(X_train,y_train)\n",
    "y_pred = lin.predict(X_test)"
   ]
  },
  {
   "cell_type": "code",
   "execution_count": null,
   "id": "2b6dcd61-2e5c-4d66-887e-569e5da41c78",
   "metadata": {},
   "outputs": [],
   "source": []
  },
  {
   "cell_type": "markdown",
   "id": "d9c29e0d-76dc-4e35-8c60-3d62b7da5692",
   "metadata": {},
   "source": [
    "### Creating coefficients"
   ]
  },
  {
   "cell_type": "code",
   "execution_count": 71,
   "id": "eb9951e6-684f-4099-9a59-c0d30fe6da45",
   "metadata": {},
   "outputs": [],
   "source": [
    "coef = lin.coef_\n",
    "components = pd.DataFrame(zip(X.columns,coef),columns=['component','value'])\n",
    "components = components.append({'component':'intercept', 'value':lin.intercept_},ignore_index=True)"
   ]
  },
  {
   "cell_type": "code",
   "execution_count": 73,
   "id": "36e2e32a-be6f-4595-ab0d-7ec24e1bc08f",
   "metadata": {},
   "outputs": [
    {
     "data": {
      "text/plain": [
       "array([7.46661709, 5.24362496, 0.20408973])"
      ]
     },
     "execution_count": 73,
     "metadata": {},
     "output_type": "execute_result"
    }
   ],
   "source": [
    "coef"
   ]
  },
  {
   "cell_type": "code",
   "execution_count": 72,
   "id": "1d6dd6d1-2d02-4537-b8e3-32d89088a9c6",
   "metadata": {},
   "outputs": [
    {
     "data": {
      "text/html": [
       "<div>\n",
       "<style scoped>\n",
       "    .dataframe tbody tr th:only-of-type {\n",
       "        vertical-align: middle;\n",
       "    }\n",
       "\n",
       "    .dataframe tbody tr th {\n",
       "        vertical-align: top;\n",
       "    }\n",
       "\n",
       "    .dataframe thead th {\n",
       "        text-align: right;\n",
       "    }\n",
       "</style>\n",
       "<table border=\"1\" class=\"dataframe\">\n",
       "  <thead>\n",
       "    <tr style=\"text-align: right;\">\n",
       "      <th></th>\n",
       "      <th>component</th>\n",
       "      <th>value</th>\n",
       "    </tr>\n",
       "  </thead>\n",
       "  <tbody>\n",
       "    <tr>\n",
       "      <th>0</th>\n",
       "      <td>TV</td>\n",
       "      <td>7.466617</td>\n",
       "    </tr>\n",
       "    <tr>\n",
       "      <th>1</th>\n",
       "      <td>Podcast</td>\n",
       "      <td>5.243625</td>\n",
       "    </tr>\n",
       "    <tr>\n",
       "      <th>2</th>\n",
       "      <td>Youtube</td>\n",
       "      <td>0.204090</td>\n",
       "    </tr>\n",
       "    <tr>\n",
       "      <th>3</th>\n",
       "      <td>intercept</td>\n",
       "      <td>20211.577745</td>\n",
       "    </tr>\n",
       "  </tbody>\n",
       "</table>\n",
       "</div>"
      ],
      "text/plain": [
       "   component         value\n",
       "0         TV      7.466617\n",
       "1    Podcast      5.243625\n",
       "2    Youtube      0.204090\n",
       "3  intercept  20211.577745"
      ]
     },
     "execution_count": 72,
     "metadata": {},
     "output_type": "execute_result"
    }
   ],
   "source": [
    "components"
   ]
  },
  {
   "cell_type": "markdown",
   "id": "02105759-0d7c-4772-92ab-3ef0c027717f",
   "metadata": {},
   "source": [
    "### Estimations: For every unit or doller of TV investment we are expected to get 7 dollers 46 cents return as we go down to YouTube the return is low on every doller investment"
   ]
  },
  {
   "cell_type": "code",
   "execution_count": null,
   "id": "ff90ce39-1427-459a-9691-c5fa1d184235",
   "metadata": {},
   "outputs": [],
   "source": []
  },
  {
   "cell_type": "code",
   "execution_count": null,
   "id": "56b442a3-c1ca-4b26-a423-5988a2205e43",
   "metadata": {},
   "outputs": [],
   "source": []
  }
 ],
 "metadata": {
  "kernelspec": {
   "display_name": "Python 3 (ipykernel)",
   "language": "python",
   "name": "python3"
  },
  "language_info": {
   "codemirror_mode": {
    "name": "ipython",
    "version": 3
   },
   "file_extension": ".py",
   "mimetype": "text/x-python",
   "name": "python",
   "nbconvert_exporter": "python",
   "pygments_lexer": "ipython3",
   "version": "3.9.7"
  }
 },
 "nbformat": 4,
 "nbformat_minor": 5
}
